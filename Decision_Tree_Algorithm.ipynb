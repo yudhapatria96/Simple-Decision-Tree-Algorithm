{
  "nbformat": 4,
  "nbformat_minor": 0,
  "metadata": {
    "colab": {
      "name": "Decision Tree Algorithm.ipynb",
      "provenance": [],
      "toc_visible": true,
      "authorship_tag": "ABX9TyNyyuxKLY/xyowOE5N6yz6U",
      "include_colab_link": true
    },
    "kernelspec": {
      "name": "python3",
      "display_name": "Python 3"
    },
    "language_info": {
      "name": "python"
    }
  },
  "cells": [
    {
      "cell_type": "markdown",
      "metadata": {
        "id": "view-in-github",
        "colab_type": "text"
      },
      "source": [
        "<a href=\"https://colab.research.google.com/github/yudhapatria96/Simple-Decision-Tree-Algorithm/blob/main/Decision_Tree_Algorithm.ipynb\" target=\"_parent\"><img src=\"https://colab.research.google.com/assets/colab-badge.svg\" alt=\"Open In Colab\"/></a>"
      ]
    },
    {
      "cell_type": "markdown",
      "metadata": {
        "id": "oKHuDVFv1sy4"
      },
      "source": [
        "# Simple Decision Tree without library"
      ]
    },
    {
      "cell_type": "code",
      "metadata": {
        "colab": {
          "base_uri": "https://localhost:8080/"
        },
        "id": "qqOP6FR60tVc",
        "outputId": "9f3e65bb-aa66-4b22-c316-de19b9c3fe22"
      },
      "source": [
        "data_lulus = []\n",
        "data_kandidat = [\n",
        "                 [\"Udin\", \"python\", \"r\", \"git\",  3],\n",
        "                 [\"Bambang\", \"python\", \"\", \"git\", 2],\n",
        "                 [\"Sunti\", \"\", \"r\", \"git\", 1],\n",
        "                 [\"Sintu\", \"python\", \"\", \"\", 2],\n",
        "                 [\"Tila\", \"\", \"\", \"git\", 0],\n",
        "                 [\"Susanti\", \"\", \"\",\"git\", 3]\n",
        "]\n",
        "\n",
        "for i in data_kandidat:\n",
        "  total_kriteria = 0\n",
        "  if i[1] == \"python\":\n",
        "    total_kriteria += 1\n",
        "  if i[2] == \"r\":\n",
        "    if i[1] != \"python\":\n",
        "      total_kriteria += 1\n",
        "  if i[3] == \"git\":\n",
        "    total_kriteria += 1\n",
        "  if i[4] > 1 :\n",
        "    total_kriteria += 1\n",
        "\n",
        "  if total_kriteria == 3:\n",
        "    data_lulus.append(i[0])\n",
        "\n",
        "print(data_lulus)"
      ],
      "execution_count": null,
      "outputs": [
        {
          "output_type": "stream",
          "text": [
            "['Udin', 'Bambang']\n"
          ],
          "name": "stdout"
        }
      ]
    },
    {
      "cell_type": "markdown",
      "metadata": {
        "id": "PAcBSXPe1vt-"
      },
      "source": [
        "# Simple Decision Tree With sklearn Library"
      ]
    },
    {
      "cell_type": "code",
      "metadata": {
        "id": "VBkM_J8Y2dd5"
      },
      "source": [
        "from sklearn import tree"
      ],
      "execution_count": null,
      "outputs": []
    },
    {
      "cell_type": "code",
      "metadata": {
        "id": "joomP9Au2g8M"
      },
      "source": [
        "python = 1\n",
        "r = 2\n",
        "git = 3\n",
        "\n",
        "kriteria = [\n",
        "            [python, r, git, 3],\n",
        "            [python, 0, git, 2],\n",
        "            [0, r, git, 1],\n",
        "            [python, 0, 0, 2],\n",
        "            [0,0,git, 0],\n",
        "            [0,0,git, 3],\n",
        "            [0, r, git, 2]\n",
        "]\n",
        "\n",
        "hasil = [\n",
        "         'lulus',\n",
        "         'lulus',\n",
        "         'tidak lulus',\n",
        "         'tidak lulus',\n",
        "         'tidak lulus',\n",
        "         'tidak lulus',\n",
        "         'lulus'\n",
        "]"
      ],
      "execution_count": null,
      "outputs": []
    },
    {
      "cell_type": "code",
      "metadata": {
        "id": "Cjp5xURM3A9O"
      },
      "source": [
        "metode = tree.DecisionTreeClassifier()\n",
        "metode = metode.fit(kriteria, hasil)"
      ],
      "execution_count": null,
      "outputs": []
    },
    {
      "cell_type": "code",
      "metadata": {
        "colab": {
          "base_uri": "https://localhost:8080/"
        },
        "id": "qRiIRDB53a2y",
        "outputId": "5bd2a2dd-94f5-479b-932b-6e15a48df1d9"
      },
      "source": [
        "prediksi = metode.predict([[0, r, git, 2]])\n",
        "print(prediksi)"
      ],
      "execution_count": null,
      "outputs": [
        {
          "output_type": "stream",
          "text": [
            "['lulus']\n"
          ],
          "name": "stdout"
        }
      ]
    }
  ]
}